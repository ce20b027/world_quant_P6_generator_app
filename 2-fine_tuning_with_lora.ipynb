{
 "cells": [
  {
   "cell_type": "markdown",
   "id": "bf7582c8",
   "metadata": {},
   "source": [
    "# Fine-tuning with LoRA"
   ]
  },
  {
   "cell_type": "markdown",
   "id": "cbe53a01",
   "metadata": {},
   "source": [
    "**Goal**: To fine-tune a Stable Diffusion model using Low-Rank Adaptation (LoRA). Involves loading a training data set  of images and descriptions from Hugging Face. This data will be used to train a set of LoRA weights to fine-tune the image generation. After testing the fine-tuned model, the weights will be uploaded to Hugging Face so that other projects can use the fine-tuned model."
   ]
  },
  {
   "cell_type": "markdown",
   "id": "ced5b5d2",
   "metadata": {},
   "source": [
    "**Objectives**\n",
    "    \n",
    "- Download and explore a data set from Hugging Face.\n",
    "- Run LoRA to fine-tune a Stable Diffusion model.\n",
    "- Generate images with the fine-tuned model.\n",
    "- Upload the LoRA weights to Hugging Face."
   ]
  },
  {
   "cell_type": "code",
   "execution_count": 1,
   "id": "8f769791",
   "metadata": {},
   "outputs": [],
   "source": [
    "import os\n",
    "import sys\n",
    "\n",
    "import datasets\n",
    "import diffusers\n",
    "import huggingface_hub\n",
    "import requests\n",
    "import torch\n",
    "from dotenv import load_dotenv\n",
    "from huggingface_hub import HfApi\n",
    "from IPython.display import display"
   ]
  },
  {
   "cell_type": "code",
   "execution_count": 2,
   "id": "a8de7ae5",
   "metadata": {},
   "outputs": [
    {
     "name": "stdout",
     "output_type": "stream",
     "text": [
      "Platform: win32\n",
      "Python version: 3.12.1 (tags/v3.12.1:2305ca5, Dec  7 2023, 22:03:25) [MSC v.1937 64 bit (AMD64)]\n",
      "---\n",
      "datasets version:  3.5.1\n",
      "diffusers version:  0.33.1\n",
      "huggingface_hub version:  0.30.2\n",
      "torch version: 2.2.2+cpu\n"
     ]
    }
   ],
   "source": [
    "print(\"Platform:\", sys.platform)\n",
    "print(\"Python version:\", sys.version)\n",
    "print(\"---\")\n",
    "print(\"datasets version: \", datasets.__version__)\n",
    "print(\"diffusers version: \", diffusers.__version__)\n",
    "print(\"huggingface_hub version: \", huggingface_hub.__version__)\n",
    "print(\"torch version:\", torch.__version__)"
   ]
  },
  {
   "cell_type": "code",
   "execution_count": 3,
   "id": "b576fac8",
   "metadata": {},
   "outputs": [
    {
     "name": "stdout",
     "output_type": "stream",
     "text": [
      "Using cpu device with torch.float32 data type.\n"
     ]
    }
   ],
   "source": [
    "if torch.cuda.is_available():\n",
    "    device = \"cuda\"\n",
    "    dtype = torch.float16\n",
    "else:\n",
    "    device = \"cpu\"\n",
    "    dtype = torch.float32\n",
    "\n",
    "print(f\"Using {device} device with {dtype} data type.\")"
   ]
  },
  {
   "cell_type": "markdown",
   "id": "3179506a",
   "metadata": {},
   "source": [
    "**Load Stable Diffusion**"
   ]
  },
  {
   "cell_type": "code",
   "execution_count": 4,
   "id": "09db9b69",
   "metadata": {},
   "outputs": [
    {
     "data": {
      "application/vnd.jupyter.widget-view+json": {
       "model_id": "59921abb37d5474ebb11a21ed063a19a",
       "version_major": 2,
       "version_minor": 0
      },
      "text/plain": [
       "Loading pipeline components...:   0%|          | 0/7 [00:00<?, ?it/s]"
      ]
     },
     "metadata": {},
     "output_type": "display_data"
    },
    {
     "name": "stdout",
     "output_type": "stream",
     "text": [
      "<class 'diffusers.pipelines.stable_diffusion.pipeline_stable_diffusion.StableDiffusionPipeline'>\n"
     ]
    }
   ],
   "source": [
    "MODEL_NAME = \"CompVis/stable-diffusion-v1-4\"\n",
    "\n",
    "pipeline = diffusers.StableDiffusionPipeline.from_pretrained(MODEL_NAME, torch_dtype=dtype)\n",
    "pipeline.to(device)\n",
    "\n",
    "print(type(pipeline))"
   ]
  },
  {
   "cell_type": "markdown",
   "id": "b65e1a2b",
   "metadata": {},
   "source": [
    "The goal is to use the model to generate the images of a dog, with the prompt, \"My dog Maya.\""
   ]
  },
  {
   "cell_type": "code",
   "execution_count": null,
   "id": "05e0efcb",
   "metadata": {},
   "outputs": [
    {
     "data": {
      "application/vnd.jupyter.widget-view+json": {
       "model_id": "d824a0b03d96454886b58fdf63d709fb",
       "version_major": 2,
       "version_minor": 0
      },
      "text/plain": [
       "  0%|          | 0/50 [00:00<?, ?it/s]"
      ]
     },
     "metadata": {},
     "output_type": "display_data"
    }
   ],
   "source": [
    "images = pipeline([\"My dog Maya\"]).images\n",
    "\n",
    "for im in images:\n",
    "    display(im)"
   ]
  },
  {
   "cell_type": "markdown",
   "id": "99c15997",
   "metadata": {},
   "source": [
    "**Load Data Set for Fine Tuning**"
   ]
  },
  {
   "cell_type": "markdown",
   "id": "b7cfc597",
   "metadata": {},
   "source": [
    "Creating a data set builder, which will let us access metadata about this data set."
   ]
  },
  {
   "cell_type": "code",
   "execution_count": null,
   "id": "5ae25dd5",
   "metadata": {},
   "outputs": [],
   "source": [
    "DATASET_NAME = \"lora_fine_tuning/maya-dataset-v1\"\n",
    "data_builder = datasets.load_dataset_builder(DATASET_NAME)\n",
    "\n",
    "print(data_builder.dataset_name)"
   ]
  },
  {
   "cell_type": "code",
   "execution_count": null,
   "id": "952ce58c",
   "metadata": {},
   "outputs": [],
   "source": [
    "print(data_builder.info.features)"
   ]
  },
  {
   "cell_type": "code",
   "execution_count": null,
   "id": "be5f949f",
   "metadata": {},
   "outputs": [],
   "source": [
    "# Check splits\n",
    "print(data_builder.info.splits)"
   ]
  },
  {
   "cell_type": "markdown",
   "id": "938ad7a4",
   "metadata": {},
   "source": [
    "Load the Maya data set from Hugging Face Hub."
   ]
  },
  {
   "cell_type": "code",
   "execution_count": null,
   "id": "11e014cc",
   "metadata": {},
   "outputs": [],
   "source": [
    "data = datasets.load_dataset(DATASET_NAME)\n",
    "\n",
    "print(data)"
   ]
  },
  {
   "cell_type": "code",
   "execution_count": null,
   "id": "472f6681",
   "metadata": {},
   "outputs": [],
   "source": [
    "data[\"train\"][\"text\"]"
   ]
  },
  {
   "cell_type": "markdown",
   "id": "df7342d2",
   "metadata": {},
   "source": [
    "Display Image"
   ]
  },
  {
   "cell_type": "code",
   "execution_count": null,
   "id": "9f5707b4",
   "metadata": {},
   "outputs": [],
   "source": [
    "# The values are PIL images, so they will be displayed\n",
    "# automatically by Jupyter.\n",
    "data[\"train\"][\"image\"][3]"
   ]
  },
  {
   "cell_type": "code",
   "execution_count": null,
   "id": "df507a73",
   "metadata": {},
   "outputs": [],
   "source": [
    "# The values are PIL images, so they will be displayed\n",
    "# automatically by Jupyter.\n",
    "data[\"train\"][\"image\"][-1]"
   ]
  },
  {
   "cell_type": "markdown",
   "id": "e609687e",
   "metadata": {},
   "source": [
    "Print out the text associated with each row in the training data."
   ]
  }
 ],
 "metadata": {
  "kernelspec": {
   "display_name": "Python 3",
   "language": "python",
   "name": "python3"
  },
  "language_info": {
   "codemirror_mode": {
    "name": "ipython",
    "version": 3
   },
   "file_extension": ".py",
   "mimetype": "text/x-python",
   "name": "python",
   "nbconvert_exporter": "python",
   "pygments_lexer": "ipython3",
   "version": "3.12.1"
  }
 },
 "nbformat": 4,
 "nbformat_minor": 5
}
